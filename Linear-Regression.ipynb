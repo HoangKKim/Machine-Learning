{
 "cells": [
  {
   "cell_type": "markdown",
   "metadata": {},
   "source": [
    "<b><h1 style='text-align: center'> Linear Regression </h1></b>"
   ]
  },
  {
   "cell_type": "markdown",
   "metadata": {},
   "source": [
    "<h2>1. Thư viện cần thiết</h2>"
   ]
  },
  {
   "cell_type": "code",
   "execution_count": 7,
   "metadata": {},
   "outputs": [],
   "source": [
    "from __future__ import division, print_function, unicode_literals\n",
    "import numpy as np\n",
    "import matplotlib.pyplot as plt\n",
    "from sklearn import datasets, linear_model"
   ]
  },
  {
   "cell_type": "markdown",
   "metadata": {},
   "source": [
    "<h2>2. Bài toán </h2>\n",
    "Từ dữ liệu ban đầu của tập train (cân nặng, chiều cao), đưa ra dự đoán về cân nặng khi cho biết chiều cao"
   ]
  },
  {
   "cell_type": "markdown",
   "metadata": {},
   "source": [
    "<h3>2.1 Nhập dữ liệu </h3>"
   ]
  },
  {
   "cell_type": "code",
   "execution_count": null,
   "metadata": {},
   "outputs": [],
   "source": [
    "# Nhập dữ liệu\n",
    "X = np.array([[147, 150, 153, 158, 163, 165, 168, 170, 173, 175, 178, 180, 183]]).T     #.T thực hiện chuyển vị\n",
    "y = np.array([[ 49, 50, 51,  54, 58, 59, 60, 62, 63, 64, 66, 67, 68]]).T\n",
    "\n",
    "# Plot data\n",
    "plt.plot(X, y, 'ro')\n",
    "plt.axis([140, 190, 45, 75])\n",
    "plt.xlabel('Height - cm')\n",
    "plt.ylabel('Weight - kg')\n",
    "plt.show()"
   ]
  },
  {
   "cell_type": "markdown",
   "metadata": {},
   "source": [
    "<b>Nhận xét</b>\n",
    "<br> - Các dữ liệu được sắp xếp theo một đường thằng \n",
    "<br> -> Mô hình Linear Regression cho kết quả tốt\n",
    "<br> - Từ đó, có đước: (cân nặng) = w_0 + w_1 * (chiều cao)"
   ]
  },
  {
   "cell_type": "markdown",
   "metadata": {},
   "source": [
    "<h3>2.2 Tìm nghiệm </h3>\n",
    "- Thực hiện tìm nghiệm theo (5) với <b>giả nghịch đảo một ma trận</b> <br>\n",
    "- Trong python, <b>numpy.linalg.pinv(A)</b> được sử dụng để tính giả nghịch đảo"
   ]
  },
  {
   "cell_type": "code",
   "execution_count": 29,
   "metadata": {},
   "outputs": [
    {
     "name": "stdout",
     "output_type": "stream",
     "text": [
      "w =  [[-33.73541021]\n",
      " [  0.55920496]]\n"
     ]
    },
    {
     "data": {
      "image/png": "[encoded data removed]",
      "text/plain": [
       "<Figure size 640x480 with 1 Axes>"
      ]
     },
     "metadata": {},
     "output_type": "display_data"
    }
   ],
   "source": [
    "# a. Xây dụng X-bar (Tập hợp các x-bar (x gạch đầu))\n",
    "one = np.ones((X.shape[0], 1))     # tạo một vector cột có X.shape[0] giá trị là 1 (X.shape[0] là số hàng)\n",
    "Xbar = np.concatenate((one, X), axis = 1)\n",
    "\n",
    "# b. Tính toán weights of the fitting line (w_i)\n",
    "A = np.dot(Xbar.T, Xbar)\n",
    "b = np.dot(Xbar.T, y)\n",
    "#   áp dụng công thức với giả nghịch đảo ma trận của A, ta thu được w\n",
    "w = np.dot(np.linalg.pinv(A), b)\n",
    "\n",
    "# c. chuẩn bị fitting line\n",
    "w_0 = w[0][0]\n",
    "w_1 = w[1][0]\n",
    "x0 = np.linspace(145, 185, 2 )\n",
    "y0 = w_0 + w_1*x0\n",
    "print('w = ',w)\n",
    "\n",
    "# print(x0)\n",
    "plt.plot(X.T, y.T, 'ro')        # the data\n",
    "plt.plot(x0, y0)                # the fitting line\n",
    "plt.axis([140, 190, 45, 75])\n",
    "plt.xlabel(\"Height - cm\")\n",
    "plt.ylabel(\"Weight - kg\")\n",
    "plt.title(\"Linear Regression Model\")\n",
    "plt.show()"
   ]
  },
  {
   "cell_type": "markdown",
   "metadata": {},
   "source": [
    "<b>Nhận xét</b>\n",
    "- Các điểm data nằm khá sát với mô hình dự đoán the fitting line -> mô hình Linear Regression hoạt động tốt với tập dữ liệu training"
   ]
  },
  {
   "cell_type": "markdown",
   "metadata": {},
   "source": [
    "<h3>2.3 Thử nghiệm </h3> <br>\n",
    "- Tiến hành thử nghiệm với dữ liệu với người có chiều cao 155cm và 160cm"
   ]
  },
  {
   "cell_type": "code",
   "execution_count": 30,
   "metadata": {},
   "outputs": [
    {
     "name": "stdout",
     "output_type": "stream",
     "text": [
      "Predict weight of person with height 155 cm: 52.94 (kg), real number: 52 (kg)\n",
      "Predict weight of person with height 160 cm: 55.74 (kg), real number: 56 (kg)\n"
     ]
    }
   ],
   "source": [
    "y1 = w_0 + w_1*155\n",
    "y2 = w_0 + w_1*160  \n",
    "\n",
    "print( u'Predict weight of person with height 155 cm: %.2f (kg), real number: 52 (kg)'  %(y1) )\n",
    "print( u'Predict weight of person with height 160 cm: %.2f (kg), real number: 56 (kg)'  %(y2) )"
   ]
  },
  {
   "cell_type": "markdown",
   "metadata": {},
   "source": [
    "<h2>3. Sử dụng thư viện Scikit-learn</h2> <br>\n",
    "- Sử dụng thư viện scikit-learn của Python để tìm nghiệm với tập training trên"
   ]
  },
  {
   "cell_type": "code",
   "execution_count": null,
   "metadata": {},
   "outputs": [],
   "source": [
    "# fit the model by Linear Regression\n",
    "regr = linear_model.LinearRegression(fit_intercept=False) # fit_intercept = False for calculating the bias \n",
    "                                                        # (không tính toán sai lệch -> mô hình đi qua gốc tọa độ)\n",
    "# Huấn luyện mô hình\n",
    "regr.fit(Xbar, y)\n",
    "\n",
    "# Compare two results\n",
    "print( 'Solution found by scikit-learn  : ', regr.coef_ )       # hệ số w tình bằng scikit-learn\n",
    "print( 'Solution found by (5): ', w.T)                          # hệ số w tính bằng phương trình (5)"
   ]
  }
 ],
 "metadata": {
  "kernelspec": {
   "display_name": ".venv",
   "language": "python",
   "name": "python3"
  },
  "language_info": {
   "codemirror_mode": {
    "name": "ipython",
    "version": 3
   },
   "file_extension": ".py",
   "mimetype": "text/x-python",
   "name": "python",
   "nbconvert_exporter": "python",
   "pygments_lexer": "ipython3",
   "version": "3.8.10"
  }
 },
 "nbformat": 4,
 "nbformat_minor": 2
}
