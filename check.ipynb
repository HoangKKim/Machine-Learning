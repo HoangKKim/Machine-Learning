{
 "cells": [
  {
   "cell_type": "code",
   "execution_count": 12,
   "metadata": {},
   "outputs": [
    {
     "data": {
      "text/plain": [
       "5800"
      ]
     },
     "execution_count": 12,
     "metadata": {},
     "output_type": "execute_result"
    }
   ],
   "source": [
    "import pandas as pd\n",
    "\n",
    "# Đọc file MTX vào DataFrame\n",
    "# Giả sử file MTX được lưu dưới dạng văn bản với các cột phân cách bằng khoảng trắng\n",
    "file_path = 'task_1_1.mtx'\n",
    "df = pd.read_csv(file_path, sep=' ', header=None, names=['termid', 'docid', 'frequency'])\n",
    "\n",
    "\n",
    "\n",
    "# Đếm số lượng termid phân biệt\n",
    "grouped_df = df.groupby('termid', as_index=False)['frequency'].sum()\n",
    "\n",
    "\n",
    "grouped_df\n"
   ]
  },
  {
   "cell_type": "code",
   "execution_count": 14,
   "metadata": {},
   "outputs": [
    {
     "name": "stdout",
     "output_type": "stream",
     "text": [
      "      termid  frequency\n",
      "0          1         20\n",
      "1          2        244\n",
      "2          3        157\n",
      "3          4       1322\n",
      "4          5         26\n",
      "...      ...        ...\n",
      "5794    9622          3\n",
      "5795    9625         10\n",
      "5796    9626          4\n",
      "5797    9630         19\n",
      "5798    9632          5\n",
      "\n",
      "[5249 rows x 2 columns]\n"
     ]
    }
   ],
   "source": [
    "# Lọc các giá trị có frequency lớn hơn 3\n",
    "filtered_df = grouped_df[grouped_df['frequency'] >= 3]\n",
    "\n",
    "filtered_df"
   ]
  },
  {
   "cell_type": "code",
   "execution_count": 28,
   "metadata": {},
   "outputs": [
    {
     "data": {
      "text/plain": [
       "0"
      ]
     },
     "execution_count": 28,
     "metadata": {},
     "output_type": "execute_result"
    }
   ],
   "source": [
    "file_path = 'task_1_2.mtx'\n",
    "df2 = pd.read_csv(file_path, sep=' ', header=None, names=['termid', 'docid', 'frequency'])\n",
    "grouped_df2 = df2.groupby('termid', as_index=False)['frequency'].sum()\n",
    "\n",
    "check = grouped_df2[grouped_df2['frequency']<3]\n",
    "\n",
    "check.size"
   ]
  },
  {
   "cell_type": "code",
   "execution_count": 31,
   "metadata": {},
   "outputs": [
    {
     "name": "stdout",
     "output_type": "stream",
     "text": [
      "10        12\n",
      "39        63\n",
      "98       149\n",
      "222      328\n",
      "253      374\n",
      "        ... \n",
      "5775    9600\n",
      "5783    9610\n",
      "5784    9611\n",
      "5788    9615\n",
      "5799    9635\n",
      "Name: termid, Length: 551, dtype: int64\n"
     ]
    }
   ],
   "source": [
    "# Bước 1: Đọc file MTX\n",
    "input_file_path = 'task_1_1.mtx'\n",
    "df = pd.read_csv(input_file_path, sep=' ', header=None, names=['termid', 'docid', 'frequency'])\n",
    "\n",
    "# Bước 2: Nhóm các dòng theo termid và tính tổng frequency\n",
    "grouped_df = df.groupby('termid', as_index=False)['frequency'].sum()\n",
    "\n",
    "check = grouped_df[grouped_df['frequency'] < 3]\n",
    "\n",
    "print(check['termid'])\n",
    "# # Lọc các termid có tổng frequency >= 3\n",
    "# filtered_termid = grouped_df[grouped_df['frequency'] >= 3]['termid']\n",
    "\n",
    "# # Lọc lại dữ liệu gốc theo danh sách termid đã lọc\n",
    "# filtered_df = df[df['termid'].isin(filtered_termid)]\n",
    "\n",
    "# (filtered_df['termid'].unique()).size"
   ]
  }
 ],
 "metadata": {
  "kernelspec": {
   "display_name": ".venv",
   "language": "python",
   "name": "python3"
  },
  "language_info": {
   "codemirror_mode": {
    "name": "ipython",
    "version": 3
   },
   "file_extension": ".py",
   "mimetype": "text/x-python",
   "name": "python",
   "nbconvert_exporter": "python",
   "pygments_lexer": "ipython3",
   "version": "3.8.10"
  }
 },
 "nbformat": 4,
 "nbformat_minor": 2
}
