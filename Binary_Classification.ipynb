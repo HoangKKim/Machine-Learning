{
 "cells": [
  {
   "cell_type": "markdown",
   "metadata": {},
   "source": [
    "<h1 style = 'text-align: center'><b>BINARY CLASSIFICATION WITH LOGISTIC REGRESSION</b></h1>"
   ]
  },
  {
   "cell_type": "code",
   "execution_count": null,
   "metadata": {},
   "outputs": [],
   "source": [
    "import numpy as np \n",
    "from mnist import MNIST\n",
    "import matplotlib.pyplot as plt\n",
    "from sklearn import linear_model\n",
    "from sklearn.metrics import accuracy_score\n"
   ]
  },
  {
   "cell_type": "markdown",
   "metadata": {},
   "source": [
    "## **1. MNIST dataset**\n",
    "- Sử dụng Dataset là tập chữ viết tay MNIST, sử dụng thư viện python-mnist\n",
    "    - Việc sử dụng thư viện này đòi hỏi việc download dataset, sau đó gọi hàm **MNIST** để load dữ liệu lên\n",
    "    - Dữ liệu được load lên dưới dạng là list(), do đó, cần chuyển đổi về dạng numpy_array để thao tác\n",
    "- **.load_traing**: tương ứng cho việc load tập train \n",
    "- **load_testing**: tương ứng cho việc load tập test"
   ]
  },
  {
   "cell_type": "code",
   "execution_count": null,
   "metadata": {},
   "outputs": [],
   "source": [
    "# prepare dataset\n",
    "mnist_dataset = MNIST('data/MNIST/')\n",
    "X_train_ds, y_train_ds = mnist_dataset.load_training()\n",
    "X_test_ds, y_test_ds = mnist_dataset.load_testing()\n",
    "\n",
    "X_train_ds = np.asarray(X_train_ds)   # matrix 2d: each row is an image\n",
    "y_train_ds = np.array(y_train_ds.tolist())\n",
    "\n",
    "X_test_ds = np.asarray(X_test_ds)\n",
    "y_test_ds = np.array(y_test_ds.tolist())"
   ]
  },
  {
   "cell_type": "markdown",
   "metadata": {},
   "source": [
    "## **2. Rút trích dữ liệu**\n",
    "- Việc rút trích này sẽ khác đối với mỗi bài toán (maybe), có thể xem lại\n",
    "- Bài toán phân loại 2 chữ số viết tay thuộc biến ***cls***. "
   ]
  },
  {
   "cell_type": "code",
   "execution_count": null,
   "metadata": {},
   "outputs": [],
   "source": [
    "cls = [[3],[8]]\n",
    "\n",
    "def extract_data(X, y, classes):\n",
    "    \"\"\"\n",
    "        X (np_array): matrix with size (N, d): d is data dim\n",
    "        y (np_array): size(N, )\n",
    "        classes: list of labels\n",
    "        \n",
    "        return:\n",
    "            X: extracted data\n",
    "            y: extracted label\n",
    "    \"\"\"\n",
    "    \n",
    "    y_res_id = np.array([])\n",
    "    for i in classes[0]:\n",
    "        y_res_id = np.hstack((y_res_id, np.where(y==i)[0]))\n",
    "    n0 = len(y_res_id)\n",
    "    \n",
    "    for i in classes[1]:\n",
    "        y_res_id = np.hstack((y_res_id, np.where(y==i)[0]))\n",
    "    n1 = len(y_res_id) - n0\n",
    "    \n",
    "    y_res_id = y_res_id.astype(int)\n",
    "    X_res_id = X[y_res_id, :]/255.0\n",
    "    y_res_id = np.asarray(classes[0]*n0 + classes[1]*n1)\n",
    "    return (X_res_id, y_res_id)\n",
    "\n",
    "# extract data for training\n",
    "(X_train, y_train) = extract_data(X_train_ds, y_train_ds, cls)\n",
    "\n",
    "(X_test, y_test) = extract_data(X_test_ds, y_test_ds, cls)\n"
   ]
  },
  {
   "cell_type": "markdown",
   "metadata": {},
   "source": [
    "## **3. Logistic Regression Model**"
   ]
  },
  {
   "cell_type": "code",
   "execution_count": null,
   "metadata": {},
   "outputs": [],
   "source": [
    "Logistic_Regression_Model = linear_model.LogisticRegression(C=1e5)\n",
    "Logistic_Regression_Model.fit(X_train, y_train)\n",
    "\n",
    "y_predict = Logistic_Regression_Model.predict(X_test)\n",
    "accuracy = accuracy_score(y_test, y_predict.tolist())"
   ]
  },
  {
   "cell_type": "code",
   "execution_count": null,
   "metadata": {},
   "outputs": [],
   "source": [
    "print(\"Accuracy is: %.2f%%\" %(100* accuracy))"
   ]
  },
  {
   "cell_type": "markdown",
   "metadata": {},
   "source": [
    "## **4. Hiển thị các dữ liệu bị chuẩn đoán sai**"
   ]
  },
  {
   "cell_type": "code",
   "execution_count": null,
   "metadata": {},
   "outputs": [],
   "source": [
    "images = X_test\n",
    "\n",
    "# Find indices of misclassified images\n",
    "misclassified_indices = np.where(y_predict != y_test)[0]\n",
    "\n",
    "# Display misclassified images\n",
    "plt.figure(figsize=(10, 8))\n",
    "for i, idx in enumerate(misclassified_indices[:36]):  # Change 10 to however many misclassified images you want to display\n",
    "    plt.subplot(6, 6, i + 1)\n",
    "    plt.imshow(images[idx].reshape(28, 28), cmap='gray')\n",
    "    plt.title(f\"True: {y_test[idx]}\\nPredicted: {y_predict[idx]}\")\n",
    "    plt.axis('off')\n",
    "\n",
    "plt.tight_layout()\n",
    "plt.show()\n"
   ]
  }
 ],
 "metadata": {
  "kernelspec": {
   "display_name": ".venv",
   "language": "python",
   "name": "python3"
  },
  "language_info": {
   "codemirror_mode": {
    "name": "ipython",
    "version": 3
   },
   "file_extension": ".py",
   "mimetype": "text/x-python",
   "name": "python",
   "nbconvert_exporter": "python",
   "pygments_lexer": "ipython3",
   "version": "3.8.10"
  }
 },
 "nbformat": 4,
 "nbformat_minor": 2
}
