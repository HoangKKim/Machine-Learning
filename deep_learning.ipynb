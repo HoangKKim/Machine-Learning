{
 "cells": [
  {
   "cell_type": "code",
   "execution_count": 26,
   "metadata": {},
   "outputs": [
    {
     "name": "stdout",
     "output_type": "stream",
     "text": [
      "x: \n",
      " [[[[0.3993261 ]\n",
      "   [0.02635727]]\n",
      "\n",
      "  [[0.67729026]\n",
      "   [0.13598798]]]]\n",
      "y: \n",
      " (1, 7, 7, 1)\n"
     ]
    }
   ],
   "source": [
    "import numpy as np\n",
    "import tensorflow as tf\n",
    "\n",
    "W=2\n",
    "S=3\n",
    "P=2\n",
    "F=2\n",
    "\n",
    "input_shape = (1, W, W, 1)\n",
    "x = np.random.uniform(size = input_shape).astype(np.float32)\n",
    "print('x: \\n', x)\n",
    "con2DTran = tf.keras.layers.Conv2DTranspose(filters = 1, \n",
    "                                            kernel_size=F, \n",
    "                                            strides=S, \n",
    "                                            output_padding = P,\n",
    "                                            input_shape=(2, 2, 1))\n",
    "y = con2DTran(x)\n",
    "print('y: \\n', y.shape)\n",
    "\n"
   ]
  },
  {
   "cell_type": "code",
   "execution_count": 31,
   "metadata": {},
   "outputs": [
    {
     "data": {
      "text/plain": [
       "TensorShape([1, 2, 2, 1])"
      ]
     },
     "execution_count": 31,
     "metadata": {},
     "output_type": "execute_result"
    }
   ],
   "source": [
    "conv2D_y = tf.keras.layers.Conv2D(filters=1, kernel_size=F, strides=S)(y)\n",
    "conv2D_y.shape"
   ]
  }
 ],
 "metadata": {
  "kernelspec": {
   "display_name": ".venv",
   "language": "python",
   "name": "python3"
  },
  "language_info": {
   "codemirror_mode": {
    "name": "ipython",
    "version": 3
   },
   "file_extension": ".py",
   "mimetype": "text/x-python",
   "name": "python",
   "nbconvert_exporter": "python",
   "pygments_lexer": "ipython3",
   "version": "3.8.10"
  }
 },
 "nbformat": 4,
 "nbformat_minor": 2
}
