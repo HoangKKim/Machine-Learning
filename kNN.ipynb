{
 "cells": [
  {
   "cell_type": "markdown",
   "metadata": {},
   "source": [
    "<h1 style = 'text-align: center'><b>K Nearest Neighbors</b></h1>"
   ]
  },
  {
   "cell_type": "code",
   "execution_count": 138,
   "metadata": {},
   "outputs": [],
   "source": [
    "import numpy as np\n",
    "import matplotlib.pyplot as plt\n",
    "from sklearn import neighbors, datasets\n",
    "from sklearn.model_selection import train_test_split\n",
    "from sklearn.metrics import accuracy_score"
   ]
  },
  {
   "cell_type": "markdown",
   "metadata": {},
   "source": [
    "<h2><b>1. Chuẩn bị dữ liệu </b></h2>"
   ]
  },
  {
   "cell_type": "code",
   "execution_count": 139,
   "metadata": {},
   "outputs": [
    {
     "name": "stdout",
     "output_type": "stream",
     "text": [
      "Number of class: 3\n",
      "Number of data points: 150\n"
     ]
    }
   ],
   "source": [
    "iris = datasets.load_iris()\n",
    "X = iris.data\n",
    "y = iris.target\n",
    "print(\"Number of class:\", len(np.unique(y)))\n",
    "print(\"Number of data points:\", len(X))\n",
    "\n",
    "X_0 = X[y==0, :]\n",
    "X_1 = X[y==1, :]\n",
    "X_2 = X[y==2, :]\n"
   ]
  },
  {
   "cell_type": "code",
   "execution_count": 140,
   "metadata": {},
   "outputs": [
    {
     "name": "stdout",
     "output_type": "stream",
     "text": [
      "Training size: 100\n",
      "Test size    : 50\n"
     ]
    }
   ],
   "source": [
    "\n",
    "# Dùng 50 điểm dữ liệu cho test set, 100 điểm còn lại cho training set\n",
    "X_train, X_test, y_train, y_test = train_test_split(X, y, test_size=50)\n",
    "\n",
    "print( \"Training size: %d\" %len(y_train))\n",
    "print( \"Test size    : %d\" %len(y_test))"
   ]
  },
  {
   "cell_type": "markdown",
   "metadata": {},
   "source": [
    "<h2><b>2. Major voting </b></h2>"
   ]
  },
  {
   "cell_type": "markdown",
   "metadata": {},
   "source": [
    "- Major voting tức là xét các điểm xung quanh nó, xem số lượng class nào chiếm ưu thế nhiều hơn thì điểm đang xét sẽ được gán nhãn của class đó (các điểm đêu có trọng số như nhau)\n",
    "- Xét trường hợp đơn giản <b>K = 1</b>, tức là với mỗi điểm test data, ta chỉ xét 1 điểm training data gần nhất và lấy label của điểm đó để dự đoán cho điểm test này.\n",
    "- Xét trường hợp <b>K = 10</b> xem trong 10 điểm gần nhất, class nào chiếm đa số thì dự đoán kết quả là class đó. Kỹ thuật dựa vào đa số này được gọi là major voting."
   ]
  },
  {
   "cell_type": "code",
   "execution_count": 141,
   "metadata": {},
   "outputs": [
    {
     "name": "stdout",
     "output_type": "stream",
     "text": [
      "Print results for 20 test data points:\n",
      "Predicted labels:  [2 2 0 0 2 0 1 0 2 1 2 2 0 0 0 0 2 0 1 0 1 1 1 1 0 2 1 1 0 1 1 2 1 2 1 0 0\n",
      " 2 2 1 0 2 0 0 0 1 2 0 1 1]\n",
      "Ground truth    :  [2 2 0 0 2 0 1 0 2 1 2 2 0 0 0 0 2 0 1 0 1 1 1 1 0 2 1 1 0 1 1 2 1 2 1 0 0\n",
      " 2 2 2 0 2 0 0 0 1 2 0 1 1]\n",
      "Accuracy of 1NN: 98.00 %\n"
     ]
    }
   ],
   "source": [
    "# p=2 tức là khoảng cách được tính theo chuẩn norm 2\n",
    "clf = neighbors.KNeighborsClassifier(n_neighbors = 10, p = 2)\n",
    "clf.fit(X_train, y_train)\n",
    "y_pred = clf.predict(X_test)\n",
    "\n",
    "print(\"Print results for 20 test data points:\")\n",
    "print(\"Predicted labels: \", y_pred)\n",
    "print(\"Ground truth    : \", y_test)\n",
    "\n",
    "# sử dụng accuracy đánh giá độ chính xác/ độ lỗi\n",
    "print(\"Accuracy of 1NN: %.2f %%\" %(100*accuracy_score(y_test, y_pred)))"
   ]
  },
  {
   "cell_type": "markdown",
   "metadata": {},
   "source": [
    "<h2><b>3. Đánh trọng số các điểm lân cận</b></h2>"
   ]
  },
  {
   "cell_type": "markdown",
   "metadata": {},
   "source": [
    "- Việc đánh trọng số làm tăng sức ảnh hưởng của các điểm cận kề và giảm tầm ảnh hưởng của các điểm ở xa so với điểm đang xét\n",
    "- Gọi <b>weights = distance</b> để thực hiện đánh trọng số cho các điểm trong quá trình huấn luyện\n",
    "- Có nhiều cách để tính trọng số cho các điểm"
   ]
  },
  {
   "cell_type": "code",
   "execution_count": 142,
   "metadata": {},
   "outputs": [
    {
     "name": "stdout",
     "output_type": "stream",
     "text": [
      "Accuracy of 10NN (1/distance weights): 100.00 %\n"
     ]
    }
   ],
   "source": [
    "clf = neighbors.KNeighborsClassifier(n_neighbors = 10, p = 2, weights = 'distance')\n",
    "clf.fit(X_train, y_train)\n",
    "y_pred = clf.predict(X_test)\n",
    "\n",
    "print(\"Accuracy of 10NN (1/distance weights): %.2f %%\" %(100*accuracy_score(y_test, y_pred)))"
   ]
  }
 ],
 "metadata": {
  "kernelspec": {
   "display_name": ".venv",
   "language": "python",
   "name": "python3"
  },
  "language_info": {
   "codemirror_mode": {
    "name": "ipython",
    "version": 3
   },
   "file_extension": ".py",
   "mimetype": "text/x-python",
   "name": "python",
   "nbconvert_exporter": "python",
   "pygments_lexer": "ipython3",
   "version": "3.8.10"
  }
 },
 "nbformat": 4,
 "nbformat_minor": 2
}
